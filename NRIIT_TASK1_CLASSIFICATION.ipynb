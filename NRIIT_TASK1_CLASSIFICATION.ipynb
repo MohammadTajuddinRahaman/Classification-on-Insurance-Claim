{
 "cells": [
  {
   "cell_type": "markdown",
   "id": "c7288644-61d9-4c72-99e9-d14c6821ca9e",
   "metadata": {},
   "source": [
    "# How can we build an accurate machine learning model to classify imbalanced data where one class has significantly fewer samples than the other?"
   ]
  },
  {
   "cell_type": "code",
   "execution_count": 3,
   "id": "d8073a12-4e56-4446-a7c5-3310253c4b9c",
   "metadata": {},
   "outputs": [],
   "source": [
    "# 📦 Import Libraries\n",
    "import pandas as pd\n",
    "import numpy as np\n",
    "import matplotlib.pyplot as plt\n",
    "import seaborn as sns\n",
    "import re\n",
    "from sklearn.model_selection import train_test_split\n",
    "from sklearn.preprocessing import StandardScaler\n",
    "from sklearn.metrics import (\n",
    "    classification_report, roc_auc_score, roc_curve,\n",
    "    precision_score, recall_score, f1_score, confusion_matrix\n",
    ")\n",
    "from sklearn.linear_model import LogisticRegression\n",
    "from sklearn.ensemble import RandomForestClassifier\n",
    "from sklearn.naive_bayes import GaussianNB\n",
    "from sklearn.svm import SVC\n",
    "from xgboost import XGBClassifier\n",
    "from imblearn.over_sampling import SMOTE"
   ]
  },
  {
   "cell_type": "code",
   "execution_count": 4,
   "id": "607dba48-b4b5-49fe-9e99-3c13598678fd",
   "metadata": {},
   "outputs": [],
   "source": [
    "# 📄 Load Data\n",
    "df = pd.read_csv(r\"C:\\Users\\tajud\\OneDrive\\Desktop\\NRIT\\sudents and projects\\S1\\Classification\\Insurance-claims-data\\Insurance claims data.csv\")"
   ]
  },
  {
   "cell_type": "code",
   "execution_count": 7,
   "id": "79d39501-6ccf-46d9-9b69-6d5cc9feb049",
   "metadata": {},
   "outputs": [],
   "source": [
    "# 🧹 Preprocessing\n",
    "df.drop(columns=['policy_id', 'transmission_type', 'rear_brakes_type'], inplace=True)"
   ]
  },
  {
   "cell_type": "code",
   "execution_count": 9,
   "id": "0a64f377-0f95-4ad9-9dfb-51fc93c00cff",
   "metadata": {},
   "outputs": [],
   "source": [
    "binary_map = {'Yes': 1, 'No': 0}\n",
    "df = df.apply(lambda col: col.map(binary_map) if col.nunique() == 2 and col.dtypes == 'object' else col)\n",
    "\n",
    "df['max_power'] = df['max_power'].apply(lambda x: float(re.findall(r'[\\d.]+', x)[0]) if isinstance(x, str) else np.nan)\n",
    "df['max_torque'] = df['max_torque'].apply(lambda x: float(re.findall(r'[\\d.]+', x)[0]) if isinstance(x, str) else np.nan)\n",
    "\n",
    "df = pd.get_dummies(df, columns=[\n",
    "    'region_code', 'segment', 'model', 'fuel_type', 'engine_type', 'steering_type'\n",
    "], drop_first=True)\n",
    "\n",
    "df.dropna(inplace=True)"
   ]
  },
  {
   "cell_type": "code",
   "execution_count": 11,
   "id": "026eda88-a48f-4bf1-9d74-43cc434f4c7b",
   "metadata": {},
   "outputs": [],
   "source": [
    "# 🎯 Target & Features\n",
    "X = df.drop('claim_status', axis=1)\n",
    "y = df['claim_status']"
   ]
  },
  {
   "cell_type": "code",
   "execution_count": 13,
   "id": "2ef800dc-4928-4e9e-ab69-194d27fb30fd",
   "metadata": {},
   "outputs": [],
   "source": [
    "# ⚖️ SMOTE + Train-Test Split\n",
    "X_train, X_test, y_train, y_test = train_test_split(X , y, stratify=y, test_size=0.2, random_state=42)\n",
    "X_train, y_train = SMOTE(random_state=42).fit_resample(X_train, y_train)"
   ]
  },
  {
   "cell_type": "code",
   "execution_count": 15,
   "id": "485a95dc-6add-4fbf-b847-21c03f80ff78",
   "metadata": {},
   "outputs": [],
   "source": [
    "# 📏 Scaling\n",
    "scaler = StandardScaler()\n",
    "X_train = scaler.fit_transform(X_train)\n",
    "X_test = scaler.transform(X_test)"
   ]
  },
  {
   "cell_type": "code",
   "execution_count": 17,
   "id": "29e1f8a9-7a6c-4795-964c-0c7349fca5ac",
   "metadata": {},
   "outputs": [],
   "source": [
    "# 🤖 Models\n",
    "models = {\n",
    "    \"Logistic Regression\": LogisticRegression(max_iter=1000),\n",
    "    \"Random Forest\": RandomForestClassifier(n_estimators=100),\n",
    "    \"Naive Bayes\": GaussianNB(),\n",
    "    \"SVM\": SVC(probability=True),\n",
    "    \"XGBoost\": XGBClassifier(use_label_encoder=False, eval_metric='logloss')\n",
    "}"
   ]
  },
  {
   "cell_type": "code",
   "execution_count": null,
   "id": "89cd8166-ed6c-451c-b5d2-37f64ceedff7",
   "metadata": {},
   "outputs": [
    {
     "name": "stdout",
     "output_type": "stream",
     "text": [
      "\n",
      "Logistic Regression Report:\n",
      "              precision    recall  f1-score   support\n",
      "\n",
      "           0       0.95      0.60      0.74     10969\n",
      "           1       0.09      0.58      0.16       750\n",
      "\n",
      "    accuracy                           0.60     11719\n",
      "   macro avg       0.52      0.59      0.45     11719\n",
      "weighted avg       0.90      0.60      0.70     11719\n",
      "\n",
      "\n",
      "Random Forest Report:\n",
      "              precision    recall  f1-score   support\n",
      "\n",
      "           0       0.94      0.90      0.92     10969\n",
      "           1       0.08      0.13      0.10       750\n",
      "\n",
      "    accuracy                           0.85     11719\n",
      "   macro avg       0.51      0.52      0.51     11719\n",
      "weighted avg       0.88      0.85      0.87     11719\n",
      "\n",
      "\n",
      "Naive Bayes Report:\n",
      "              precision    recall  f1-score   support\n",
      "\n",
      "           0       0.94      0.55      0.70     10969\n",
      "           1       0.07      0.52      0.13       750\n",
      "\n",
      "    accuracy                           0.55     11719\n",
      "   macro avg       0.51      0.54      0.41     11719\n",
      "weighted avg       0.89      0.55      0.66     11719\n",
      "\n"
     ]
    }
   ],
   "source": [
    "# 📊 Training, Evaluation, and Plotting\n",
    "results = []\n",
    "plt.figure(figsize=(8, 6))\n",
    "\n",
    "for name, model in models.items():\n",
    "    model.fit(X_train, y_train)\n",
    "    preds = model.predict(X_test)\n",
    "    probs = model.predict_proba(X_test)[:, 1]\n",
    "\n",
    "    # Metrics\n",
    "    precision = precision_score(y_test, preds)\n",
    "    recall = recall_score(y_test, preds)\n",
    "    f1 = f1_score(y_test, preds)\n",
    "    auc = roc_auc_score(y_test, probs)\n",
    "    \n",
    "    results.append({\n",
    "        \"Model\": name,\n",
    "        \"Precision\": round(precision, 4),\n",
    "        \"Recall\": round(recall, 4),\n",
    "        \"F1-Score\": round(f1, 4),\n",
    "        \"ROC-AUC\": round(auc, 4)\n",
    "    })\n",
    "\n",
    "    # Report and ROC Curve\n",
    "    print(f\"\\n{name} Report:\")\n",
    "    print(classification_report(y_test, preds))\n",
    "\n",
    "    fpr, tpr, _ = roc_curve(y_test, probs)\n",
    "    plt.plot(fpr, tpr, label=name)\n"
   ]
  },
  {
   "cell_type": "code",
   "execution_count": null,
   "id": "9442232d-03f9-4ea1-ae4a-d4179a345e3a",
   "metadata": {},
   "outputs": [],
   "source": []
  },
  {
   "cell_type": "code",
   "execution_count": null,
   "id": "f73979bf-ed2b-4a93-8b49-9ed69ceae298",
   "metadata": {},
   "outputs": [],
   "source": [
    "# 📋 Results Table\n",
    "results_df = pd.DataFrame(results)\n",
    "print(\"\\nModel Comparison Table:\")\n",
    "print(results_df)"
   ]
  },
  {
   "cell_type": "code",
   "execution_count": null,
   "id": "573c77aa-40a4-42e3-a1a6-2735a84965ea",
   "metadata": {},
   "outputs": [],
   "source": []
  },
  {
   "cell_type": "code",
   "execution_count": null,
   "id": "002c7c72-ffaa-49dd-b1b9-fa9506786fd6",
   "metadata": {},
   "outputs": [],
   "source": []
  },
  {
   "cell_type": "code",
   "execution_count": null,
   "id": "af31654f-b07a-4761-91ab-e6b50f4d8f4f",
   "metadata": {},
   "outputs": [],
   "source": []
  },
  {
   "cell_type": "code",
   "execution_count": null,
   "id": "e2f9e014-7f31-4626-9ecf-50ae3dffb9f7",
   "metadata": {},
   "outputs": [],
   "source": []
  },
  {
   "cell_type": "code",
   "execution_count": null,
   "id": "124cf237-50e9-4f7d-ada3-a21316649c66",
   "metadata": {},
   "outputs": [],
   "source": []
  },
  {
   "cell_type": "code",
   "execution_count": null,
   "id": "84cb3255-cd1c-4b09-bffc-802c2382a56a",
   "metadata": {},
   "outputs": [],
   "source": []
  },
  {
   "cell_type": "code",
   "execution_count": null,
   "id": "43ac203d-fef3-4359-8eb1-4f5b5ecc21b8",
   "metadata": {},
   "outputs": [],
   "source": []
  },
  {
   "cell_type": "code",
   "execution_count": null,
   "id": "c16480a6-ad6f-4143-af40-3f7de22afccb",
   "metadata": {},
   "outputs": [],
   "source": []
  },
  {
   "cell_type": "code",
   "execution_count": null,
   "id": "afd6ab00-1cce-4053-924a-768aefe9f92b",
   "metadata": {},
   "outputs": [],
   "source": []
  },
  {
   "cell_type": "code",
   "execution_count": null,
   "id": "6937399d-ea0a-4158-b4a1-b46beb050ea3",
   "metadata": {},
   "outputs": [],
   "source": []
  },
  {
   "cell_type": "code",
   "execution_count": null,
   "id": "251a14e3-56d1-4276-89d1-981a5a510152",
   "metadata": {},
   "outputs": [],
   "source": []
  },
  {
   "cell_type": "code",
   "execution_count": null,
   "id": "548e353b-a9d9-4936-8399-b051b04a71b6",
   "metadata": {},
   "outputs": [],
   "source": []
  },
  {
   "cell_type": "code",
   "execution_count": null,
   "id": "2af9a989-dfa8-40e3-a67a-1478e67785de",
   "metadata": {},
   "outputs": [],
   "source": []
  },
  {
   "cell_type": "code",
   "execution_count": null,
   "id": "51a5ca85-fb2a-4713-9ac2-52cb1c178faa",
   "metadata": {},
   "outputs": [],
   "source": []
  },
  {
   "cell_type": "code",
   "execution_count": null,
   "id": "7e02170b-422b-4e6b-b2e5-2d57e0de7934",
   "metadata": {},
   "outputs": [],
   "source": []
  },
  {
   "cell_type": "code",
   "execution_count": null,
   "id": "ef9e18db-cc34-44eb-94fb-055c2af70803",
   "metadata": {},
   "outputs": [],
   "source": []
  },
  {
   "cell_type": "code",
   "execution_count": null,
   "id": "96bbf512-2b68-4b0a-8ff3-ef7cd70c163b",
   "metadata": {},
   "outputs": [],
   "source": []
  }
 ],
 "metadata": {
  "kernelspec": {
   "display_name": "Python [conda env:base] *",
   "language": "python",
   "name": "conda-base-py"
  },
  "language_info": {
   "codemirror_mode": {
    "name": "ipython",
    "version": 3
   },
   "file_extension": ".py",
   "mimetype": "text/x-python",
   "name": "python",
   "nbconvert_exporter": "python",
   "pygments_lexer": "ipython3",
   "version": "3.12.7"
  }
 },
 "nbformat": 4,
 "nbformat_minor": 5
}
